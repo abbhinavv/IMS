{
 "cells": [
  {
   "cell_type": "markdown",
   "id": "bbac16f4",
   "metadata": {},
   "source": [
    "# Listing of existing products"
   ]
  },
  {
   "cell_type": "code",
   "execution_count": null,
   "id": "25d5cb4b",
   "metadata": {},
   "outputs": [],
   "source": [
    "fo = open(\"records.json\",'r')              # Opening records.json nd reading products from it\n",
    "text = fo.read()\n",
    "fo.close()"
   ]
  },
  {
   "cell_type": "code",
   "execution_count": null,
   "id": "a8e8e8e6",
   "metadata": {},
   "outputs": [],
   "source": [
    "import json                                 # Converting string of products to dictionary \n",
    "\n",
    "products = json.loads(text)"
   ]
  },
  {
   "cell_type": "code",
   "execution_count": null,
   "id": "d6dded90",
   "metadata": {},
   "outputs": [],
   "source": [
    "products                                   # Listing existing products\n"
   ]
  },
  {
   "cell_type": "markdown",
   "id": "d4c5bb03",
   "metadata": {},
   "source": [
    "# Is product present in inventory or not? and then updating it"
   ]
  },
  {
   "cell_type": "code",
   "execution_count": null,
   "id": "e946be40",
   "metadata": {},
   "outputs": [],
   "source": [
    "pr_id = input(\"Enter the product Id: \")         # Is product already present in inventory or is it new\n",
    "pr_qn = int(input(\"Qty to be added: \"))\n",
    "\n",
    "if (pr_id in products.keys()):                  # If it's already present only increase it's quantity\n",
    "    print(\"This product is present in our inventory.\\nWe will update {} qunatity with existing ones\".format(pr_qn))\n",
    "    products[pr_id]['qn'] += pr_qn\n",
    "else:    \n",
    "    pr_name = input(\"Product name\")          # If not present then add it as new product\n",
    "    pr_price = int(input(\"Price of single product\")) \n",
    "    products[pr_id] = {'name' : pr_name , 'pr' : pr_price , 'qn' : pr_qn }"
   ]
  },
  {
   "cell_type": "code",
   "execution_count": null,
   "id": "1108552c",
   "metadata": {},
   "outputs": [],
   "source": [
    "products                                     # Verify the added products in inventory"
   ]
  },
  {
   "cell_type": "markdown",
   "id": "e8d56955",
   "metadata": {},
   "source": [
    "# If user want to delete any item"
   ]
  },
  {
   "cell_type": "code",
   "execution_count": null,
   "id": "96e66244",
   "metadata": {},
   "outputs": [],
   "source": [
    "to_del = input(\"Do you want to delete any record Y/N: \")    # If we want to delete any item from inventory\n",
    "if (to_del == \"Y\"):\n",
    "    wch_prod = input(\"Please enter Id of the product you want to remove: \")\n",
    "    if (wch_prod in products):\n",
    "        del products[wch_prod]\n",
    "        print(\"{} product is deleted from inventory. Thank you.\".format(wch_prod))\n",
    "else:\n",
    "    print(\"Okay, Thank you.\")\n"
   ]
  },
  {
   "cell_type": "markdown",
   "id": "e934b224",
   "metadata": {},
   "source": [
    "# Updating records.json file"
   ]
  },
  {
   "cell_type": "code",
   "execution_count": null,
   "id": "c091dc02",
   "metadata": {},
   "outputs": [],
   "source": [
    "new_prod = json.dumps(products)          # Converting dictionary of products to string format"
   ]
  },
  {
   "cell_type": "code",
   "execution_count": null,
   "id": "1454fc3b",
   "metadata": {},
   "outputs": [],
   "source": [
    "new_prod"
   ]
  },
  {
   "cell_type": "code",
   "execution_count": null,
   "id": "8e897dbc",
   "metadata": {},
   "outputs": [],
   "source": [
    "fc = open(\"records.json\",'w')        # Updating our inventory records.json\n",
    "fc.write(new_prod)\n",
    "fc.close()"
   ]
  }
 ],
 "metadata": {
  "kernelspec": {
   "display_name": "Python 3",
   "language": "python",
   "name": "python3"
  },
  "language_info": {
   "codemirror_mode": {
    "name": "ipython",
    "version": 3
   },
   "file_extension": ".py",
   "mimetype": "text/x-python",
   "name": "python",
   "nbconvert_exporter": "python",
   "pygments_lexer": "ipython3",
   "version": "3.8.8"
  }
 },
 "nbformat": 4,
 "nbformat_minor": 5
}
