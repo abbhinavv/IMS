{
 "cells": [
  {
   "cell_type": "markdown",
   "id": "bee9a860",
   "metadata": {},
   "source": [
    "# Billing of purchased product"
   ]
  },
  {
   "cell_type": "code",
   "execution_count": null,
   "id": "27d50232",
   "metadata": {},
   "outputs": [],
   "source": [
    "fs = open(\"records.json\" , \"r\")   # To read data from records\n",
    "text = fs.read()\n",
    "fs.close()"
   ]
  },
  {
   "cell_type": "code",
   "execution_count": null,
   "id": "ee024760",
   "metadata": {},
   "outputs": [],
   "source": [
    "import json                            # Converting string type data to dictionary\n",
    "products = json.loads(text)"
   ]
  },
  {
   "cell_type": "code",
   "execution_count": null,
   "id": "1d58cf49",
   "metadata": {},
   "outputs": [],
   "source": [
    "print(\"These are the products with their id's and price: \")  # Options for buyer \n",
    "products"
   ]
  },
  {
   "cell_type": "code",
   "execution_count": null,
   "id": "447a15ae",
   "metadata": {},
   "outputs": [],
   "source": [
    "usr_prod = input(\"What item you want to buy from the list, enter it's id: \")  # User enter product id and how much qty he wants\n",
    "usr_prodqty = int(input(\"How much of this you want: \"))"
   ]
  },
  {
   "cell_type": "code",
   "execution_count": null,
   "id": "dfd12787",
   "metadata": {},
   "outputs": [],
   "source": [
    "if (products[usr_prod]['qn'] <= usr_prodqty): # Checks if entered product qty. is vailable or not and prceed to billing\n",
    "    print(\"\\n We have max {0} of them \".format(products[usr_prod]['qn']))\n",
    "    choice = input(\"\\nDo you want to buy {0} quantities y/n \\n\".format(products[usr_prod]['qn']))\n",
    "    \n",
    "    if(choice == \"y\"):                     # If user wants to buy whatever lesser qty we have\n",
    "        print (\"Product name : \" + products[usr_prod][\"name\"])\n",
    "        print (\"Price : \" , products[usr_prod][\"pr\"] , \"Rs.\")\n",
    "        print(\"Quantity: \", usr_prodqty)\n",
    "        bill = products[usr_prod][\"pr\"] * usr_prodqty\n",
    "        print (\"Billing amount :\" , bill , \"Rs.\")\n",
    "        print(\"Thank you for shopping with us \")\n",
    "    else:                                   # If user does not want to buy lesser quantity\n",
    "        print(\"Thank you for shopping with us \")\n",
    "        \n",
    "else:                                       # if we have more qty than user wants\n",
    "    print (\"Product name : \" + products[usr_prod][\"name\"])\n",
    "    print (\"Price : \" , products[usr_prod][\"pr\"] , \"Rs.\")\n",
    "    print(\"Quantity: \", usr_prodqty)\n",
    "    bill = products[usr_prod][\"pr\"] * usr_prodqty\n",
    "    print (\"Billing amount : \" , bill , \"Rs.\")\n",
    "    print(\"Thank you for shoppinng with us\")"
   ]
  },
  {
   "cell_type": "markdown",
   "id": "55db25e4",
   "metadata": {},
   "source": [
    "# Updating records.json file"
   ]
  },
  {
   "cell_type": "code",
   "execution_count": null,
   "id": "00aa0723",
   "metadata": {},
   "outputs": [],
   "source": [
    "products[usr_prod]['qn'] -= usr_prodqty  # Updating records in products dictionary file\n",
    "print(products[usr_prod])"
   ]
  },
  {
   "cell_type": "code",
   "execution_count": null,
   "id": "00a85d11",
   "metadata": {},
   "outputs": [],
   "source": [
    "products = json.dumps(products)    # Converting dictionary of products to string\n",
    "print(products)"
   ]
  },
  {
   "cell_type": "code",
   "execution_count": null,
   "id": "e4d50f3b",
   "metadata": {},
   "outputs": [],
   "source": [
    "fs = open(\"records.json\",\"w\")   # Again storing updated product list in records\n",
    "fs.write(products)\n",
    "fs.close()"
   ]
  },
  {
   "cell_type": "markdown",
   "id": "1a3716e1",
   "metadata": {},
   "source": [
    "\n",
    "# Updating sales.json file"
   ]
  },
  {
   "cell_type": "code",
   "execution_count": null,
   "id": "0940f689",
   "metadata": {},
   "outputs": [],
   "source": [
    "fo = open(\"sales.json\",'r')   # Updating Sales for 2 conditions : If sales has no prev.txns and if it contains previous txn. records \n",
    "transactions = fo.read()\n",
    "fo.close()\n",
    "\n",
    "sales = json.loads(transactions)   # Converting string of txn(s). to dictionary\n",
    "\n",
    "if (len(sales) == 0):\n",
    "    print(\"Nothing in sales\")\n",
    "    sales[(len(sales) + 1)] = {\"product\" : usr_prod, \"qty\" : usr_prodqty, \"bill_amt\" : bill }\n",
    "else:   \n",
    "    sales[(len(sales) + 1)] = {\"product\" : usr_prod, \"qty\" : usr_prodqty, \"bill_amt\" : bill }"
   ]
  },
  {
   "cell_type": "code",
   "execution_count": null,
   "id": "4922e809",
   "metadata": {},
   "outputs": [],
   "source": [
    "sales                                   # Again verifying the sales"
   ]
  },
  {
   "cell_type": "code",
   "execution_count": null,
   "id": "cf9b841a",
   "metadata": {},
   "outputs": [],
   "source": [
    "sale = json.dumps(sales)                # Converting dictionary of sales to string for string in sales.json file"
   ]
  },
  {
   "cell_type": "code",
   "execution_count": null,
   "id": "19ef6f61",
   "metadata": {},
   "outputs": [],
   "source": [
    "fd = open(\"sales.json\", 'w')           # Updating sales.json file\n",
    "fd.write(sale)\n",
    "fd.close()"
   ]
  }
 ],
 "metadata": {
  "kernelspec": {
   "display_name": "Python 3",
   "language": "python",
   "name": "python3"
  },
  "language_info": {
   "codemirror_mode": {
    "name": "ipython",
    "version": 3
   },
   "file_extension": ".py",
   "mimetype": "text/x-python",
   "name": "python",
   "nbconvert_exporter": "python",
   "pygments_lexer": "ipython3",
   "version": "3.8.8"
  }
 },
 "nbformat": 4,
 "nbformat_minor": 5
}
